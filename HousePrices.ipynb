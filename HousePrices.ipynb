{
 "cells": [
  {
   "cell_type": "markdown",
   "metadata": {},
   "source": [
    "# House Prices Project\n",
    "\n",
    "We want to predict the property's sale price in dollars, i.e. the target variable is 'SalePrice'.\n",
    "\n",
    "Metric: Models are evaluated on Root-Mean-Squared-Error (RMSE) between the logarithm of the predicted value and the logarithm of the observed sales price. (Taking logs means that errors in predicting expensive houses and cheap houses will affect the result equally.)\n",
    "\n",
    "## Data Exploration"
   ]
  },
  {
   "cell_type": "code",
   "execution_count": 1,
   "metadata": {
    "collapsed": true
   },
   "outputs": [],
   "source": [
    "# First let us import the required packages\n",
    "import numpy as np\n",
    "import pandas as pd\n",
    "import matplotlib.pyplot as plt\n",
    "import seaborn as sns; sns.set()  # set plot styles\n",
    "from scipy.stats import norm\n",
    "from scipy.stats import lognorm\n",
    "from scipy import stats\n",
    "%matplotlib inline \n",
    "# to show the plots inline\n",
    "#plt.style.use('seaborn-pastel') # Here we can choose the plotting style"
   ]
  },
  {
   "cell_type": "code",
   "execution_count": 2,
   "metadata": {
    "collapsed": true
   },
   "outputs": [],
   "source": [
    "# Let's read-in the training dataset\n",
    "trainData = pd.read_csv('data/train.csv')"
   ]
  },
  {
   "cell_type": "code",
   "execution_count": null,
   "metadata": {
    "collapsed": true
   },
   "outputs": [],
   "source": [
    "## Important Notes!\n",
    "# To make a copy of an array\n",
    "#data_sub_copy = data[:2, :2].copy()\n",
    "\n",
    "# When subsetting a pd Series use loc (explicit, row labels) and iloc (implicit, row index), \n",
    "# data.loc[1:3] or data.iloc[1], this explicitly tells us what indexing system we are using and removes ambiguity.\n",
    "# This makes the code easy to read and understand\n",
    "\n",
    "# For DF\n",
    "# Use data['pop'] = z rather than data.pop = z, this avoids potential problems\n",
    "# To add a new column: data['density'] = data['pop'] / data['area']\n",
    "# data.values gives array of values only\n",
    "# For array-style indexing use the loc, iloc, and ix indexers\n",
    "# With the iloc indexer we can index the underlying array as if it is a simple NumPy array:\n",
    "# data.iloc[:3, :2] but this keeps the col and row labels\n",
    "# or use explicit lables: data.loc[:'Illinois', :'pop']\n",
    "# The ix indexer allows a hybrid of these two approaches: data.ix[:3, :'pop']\n",
    "# Fancy indexing: data.loc[data.density > 100, ['pop', 'density']]\n",
    "# this picks out rows with density>100, and shows only two cols pop and density\n",
    "# Set a new value in a particular position: data.iloc[0, 2] = 90\n",
    "# Remamber: indexing refers to columns, slicing refers to rows\n",
    "# data['Florida':'Illinois'] or data[1:3] slices rows\n",
    "# Direct masking operations are also row-wise: data[data.density > 100] returns rows with cond"
   ]
  },
  {
   "cell_type": "code",
   "execution_count": 3,
   "metadata": {},
   "outputs": [
    {
     "data": {
      "text/plain": [
       "[118260, 2, 1460, 81, (1460, 81)]"
      ]
     },
     "execution_count": 3,
     "metadata": {},
     "output_type": "execute_result"
    }
   ],
   "source": [
    "# We can take a quick look at the size of the dataset\n",
    "[trainData.size, # total number of elements\n",
    "trainData.ndim, # number of dimentions\n",
    "trainData.shape[0], # number of rows\n",
    "trainData.shape[1], # number of columns\n",
    "trainData.shape] "
   ]
  },
  {
   "cell_type": "code",
   "execution_count": 4,
   "metadata": {
    "scrolled": true
   },
   "outputs": [
    {
     "data": {
      "text/plain": [
       "Index(['Id', 'MSSubClass', 'MSZoning', 'LotFrontage', 'LotArea'], dtype='object')"
      ]
     },
     "execution_count": 4,
     "metadata": {},
     "output_type": "execute_result"
    }
   ],
   "source": [
    "# To look at the variable names. Here the first 5.\n",
    "trainData.columns[:5]"
   ]
  },
  {
   "cell_type": "code",
   "execution_count": 57,
   "metadata": {},
   "outputs": [
    {
     "data": {
      "text/plain": [
       "object     43\n",
       "int64      35\n",
       "float64     3\n",
       "dtype: int64"
      ]
     },
     "execution_count": 57,
     "metadata": {},
     "output_type": "execute_result"
    }
   ],
   "source": [
    "# Here I want to check the variable types and summarise\n",
    "#trainData['Id'].dtype # checks just one var\n",
    "trainData.dtypes # checks all vars\n",
    "trainData.dtypes.value_counts() # count the number of types\n",
    "# Hence there are 38 numerical variables (int and floats) and 43 categorical variables. Of course some of these \n",
    "# numerical variables could actually be categorical. This is something to check."
   ]
  },
  {
   "cell_type": "code",
   "execution_count": 7,
   "metadata": {},
   "outputs": [
    {
     "data": {
      "text/plain": [
       "WD       1267\n",
       "New       122\n",
       "COD        43\n",
       "ConLD       9\n",
       "ConLw       5\n",
       "ConLI       5\n",
       "CWD         4\n",
       "Oth         3\n",
       "Con         2\n",
       "Name: SaleType, dtype: int64"
      ]
     },
     "execution_count": 7,
     "metadata": {},
     "output_type": "execute_result"
    }
   ],
   "source": [
    "# Here we can take a quick look at the data\n",
    "# trainData.head(3) # first 3 rows\n",
    "# df.describe() # to summarise the whole data frame\n",
    "# df.describe(include=['O']) # to summarise all the character variables\n",
    "# df.describe(include=['float64']) # for the numeric values\n",
    "# df['productcode'].value_counts() # frequency of categorical var\n",
    "trainData['SaleType'].value_counts() # as an example"
   ]
  },
  {
   "cell_type": "markdown",
   "metadata": {},
   "source": [
    "### The target variable\n",
    "Now we look into the target variable in more detail. We can see at first that there is no weird data such as House Prices at 0 value."
   ]
  },
  {
   "cell_type": "code",
   "execution_count": 71,
   "metadata": {},
   "outputs": [
    {
     "data": {
      "text/plain": [
       "count      1460.000000\n",
       "mean     180921.195890\n",
       "std       79442.502883\n",
       "min       34900.000000\n",
       "25%      129975.000000\n",
       "50%      163000.000000\n",
       "75%      214000.000000\n",
       "max      755000.000000\n",
       "Name: SalePrice, dtype: float64"
      ]
     },
     "execution_count": 71,
     "metadata": {},
     "output_type": "execute_result"
    }
   ],
   "source": [
    "# Summary statistics for the target variable\n",
    "trainData['SalePrice'].describe()"
   ]
  },
  {
   "cell_type": "code",
   "execution_count": 5,
   "metadata": {},
   "outputs": [
    {
     "data": {
      "text/plain": [
       "6311111264.2974482"
      ]
     },
     "execution_count": 5,
     "metadata": {},
     "output_type": "execute_result"
    }
   ],
   "source": [
    "# What's the variance of our target variable:\n",
    "trainData['SalePrice'].var()\n",
    "# Totally different to the mean, by many orders of magnitude, hence this is not a Poisson distribution"
   ]
  },
  {
   "cell_type": "code",
   "execution_count": 3,
   "metadata": {},
   "outputs": [
    {
     "data": {
      "image/png": "[encoded data removed]",
      "text/plain": [
       "<matplotlib.figure.Figure at 0x7f7dd679aa90>"
      ]
     },
     "metadata": {},
     "output_type": "display_data"
    }
   ],
   "source": [
    "# Let's look at the distribution of the target variable\n",
    "plt.subplots(figsize=(9, 5))\n",
    "sns.distplot(trainData['SalePrice'], bins= 60, fit=lognorm); # fits a LogNormal distribution quite well"
   ]
  },
  {
   "cell_type": "code",
   "execution_count": 4,
   "metadata": {},
   "outputs": [
    {
     "data": {
      "text/plain": [
       "(1460, 81)"
      ]
     },
     "execution_count": 4,
     "metadata": {},
     "output_type": "execute_result"
    }
   ],
   "source": [
    "## IMPORTANT!\n",
    "# Here we are applying a log transformation to the target variable\n",
    "trainData['SalePrice'] = np.log(trainData['SalePrice'])\n",
    "trainData.shape"
   ]
  },
  {
   "cell_type": "markdown",
   "metadata": {},
   "source": [
    "The models are to be evaluated on the log of the SalePrice."
   ]
  },
  {
   "cell_type": "code",
   "execution_count": 6,
   "metadata": {},
   "outputs": [
    {
     "data": {
      "image/png": "[encoded data removed]",
      "text/plain": [
       "<matplotlib.figure.Figure at 0x7f7dcf6319e8>"
      ]
     },
     "metadata": {},
     "output_type": "display_data"
    }
   ],
   "source": [
    "# Let's look at the distribution of the new target variable\n",
    "plt.subplots(figsize=(9, 5))\n",
    "sns.distplot(trainData['SalePrice'], bins= 30, fit=norm); # fits a Normal distribution quite well"
   ]
  },
  {
   "cell_type": "markdown",
   "metadata": {},
   "source": [
    "Linear models are based on the assumption that the target variable/random error is Normally distributed. We should check this point, I thought Generalised-Linear models relaxed this assumption. Anyway, I think this affects things when you want to do statistics e.g. hypothesis testing etc, but maybe not so important for predictions.\n",
    "\n",
    "\"Interpreting model parameters is much more a statistical modeling question than a machine learning question. Machine learning rather focuses on what the model predicts.\""
   ]
  },
  {
   "cell_type": "code",
   "execution_count": 7,
   "metadata": {},
   "outputs": [
    {
     "data": {
      "text/plain": [
       "[0.12133506220520406, 0.80953199580362956]"
      ]
     },
     "execution_count": 7,
     "metadata": {},
     "output_type": "execute_result"
    }
   ],
   "source": [
    "# Here we can check for skewness and kurtosis, since the distribution does not look Gaussian exactly\n",
    "[trainData['SalePrice'].skew(), trainData['SalePrice'].kurt()]"
   ]
  },
  {
   "cell_type": "markdown",
   "metadata": {},
   "source": [
    "### Correlations\n",
    "\n",
    "We can do a correlation matrix of all numerical variables. But honestly, I find that to be too much information in one plot and therefore not so useful. I find it best to look at a subset of variables which are most highly correlated with the target variable SalePrice."
   ]
  },
  {
   "cell_type": "code",
   "execution_count": 36,
   "metadata": {},
   "outputs": [
    {
     "data": {
      "image/png": "[encoded data removed]",
      "text/plain": [
       "<matplotlib.figure.Figure at 0x7fb546cc8828>"
      ]
     },
     "metadata": {},
     "output_type": "display_data"
    }
   ],
   "source": [
    "# This is the correlation matrix between all the numerical variables (floats and ints)\n",
    "corrmatrix = trainData.corr()\n",
    "#f, ax = \n",
    "# plt.subplots(figsize=(12, 9)) # this changes the plot size, but not sure why it's writen like that!\n",
    "# sns.heatmap(corrmatrix, vmax=.8, square=True); # heatmap for full correlation matrix\n",
    "#corrmatrix.shape\n",
    "#corrmatrix.iloc[:3, :3] # look at first few elements\n",
    "#corrmatrix['SalePrice']\n",
    "#np.abs(corrmatrix.head(3))\n",
    "\n",
    "# The correlation matrix for SalePrice \n",
    "# First we collect 15 columns with largest abs correlations with target variable SalePrice\n",
    "# What we care about is the absolute value of the correlation, \n",
    "# we don't care about positive or negative relationships\n",
    "cols15 = np.abs(corrmatrix).nlargest(15, 'SalePrice')['SalePrice'].index \n",
    "corrm15 = corrmatrix.loc[cols15, cols15].values # this picks out top 15 elements\n",
    "sns.set(font_scale=1.25)\n",
    "plt.subplots(figsize=(12, 9))\n",
    "hm = sns.heatmap(corrm15, cbar=True, annot=True, square=True, fmt='.2f', \n",
    "                 annot_kws={'size': 10}, yticklabels=cols15.values, xticklabels=cols15.values)\n",
    "plt.show()\n"
   ]
  },
  {
   "cell_type": "markdown",
   "metadata": {},
   "source": [
    "In this group of variables, excluding correlations with our target variable, we can identify highly correlated (> 0.8) pairs:\n",
    "* GarageCars (Size of garage in car capacity) and GarageArea (Size of garage in square feet) \n",
    "* TotalBsmtSF (Total square feet of basement area) and 1stFlrSF (First Floor square feet) \n",
    "* GrLivArea (Above grade (ground) living area square feet) and TotRmsAbvGrd (Total rooms above grade (does not include bathrooms)) \n",
    "* YearBuilt (Original construction date) and GarageYrBlt (Year garage was built)\n",
    "\n",
    "It comes to no supprise that these pairs are highly correlated, they essentially trace the same characteristics. In building our models we should keep these in mind and possibly not include all the paired variables in order to keep the variance low.\n",
    "\n",
    "The top 4 numerical variables which correlate with SalePrice most strongly are:\n",
    "* OverallQual: Overall material and finish quality\n",
    "* GrLivArea/TotRmsAbvGrd: Above grade (ground) living area square feet/Total rooms above grade (does not include bathrooms)\n",
    "* GarageCars/GarageArea: Size of garage in car capacity/Size of garage in square feet\n",
    "* TotalBsmtSF/1stFlrSF: Total square feet of basement area/First Floor square feet, i.e. size of property"
   ]
  },
  {
   "cell_type": "code",
   "execution_count": 9,
   "metadata": {},
   "outputs": [
    {
     "data": {
      "image/png": "[encoded data removed]",
      "text/plain": [
       "<matplotlib.figure.Figure at 0x7f7dcf129d68>"
      ]
     },
     "metadata": {},
     "output_type": "display_data"
    }
   ],
   "source": [
    "# Let's visualise the most important numerical correlations\n",
    "trainData.plot.scatter(x='OverallQual', y='SalePrice', alpha=0.4);"
   ]
  },
  {
   "cell_type": "code",
   "execution_count": 10,
   "metadata": {},
   "outputs": [
    {
     "data": {
      "image/png": "[encoded data removed]",
      "text/plain": [
       "<matplotlib.figure.Figure at 0x7f7dcf110ef0>"
      ]
     },
     "metadata": {},
     "output_type": "display_data"
    }
   ],
   "source": [
    "trainData.plot.scatter(x='GrLivArea', y='SalePrice', alpha=0.4);"
   ]
  },
  {
   "cell_type": "markdown",
   "metadata": {},
   "source": [
    "So far we have only looked at the relationships between numerical variables. \n",
    "\n",
    "Note: Some numerical variables are integers and could be considered categorical. However these, such as OverallQual are ordered, hence can be used sensibly for correlations. Others are not, for example the variable Id makes no sense to use as correlator.\n",
    "\n",
    "A big question comes up: how do we handle all these categorical variables. We could search for the variables which separates the data best, but this could take a lot of time. I think this is where automatic model selection comes into play."
   ]
  },
  {
   "cell_type": "code",
   "execution_count": 4,
   "metadata": {},
   "outputs": [
    {
     "data": {
      "text/plain": [
       "object     43\n",
       "int64      35\n",
       "float64     3\n",
       "dtype: int64"
      ]
     },
     "execution_count": 4,
     "metadata": {},
     "output_type": "execute_result"
    }
   ],
   "source": [
    "# There are 43 categorical variables we have so far not looked into\n",
    "trainData.dtypes.value_counts() # count the number of types"
   ]
  },
  {
   "cell_type": "code",
   "execution_count": 11,
   "metadata": {},
   "outputs": [
    {
     "data": {
      "image/png": "[encoded data removed]",
      "text/plain": [
       "<matplotlib.figure.Figure at 0x7f7dcefb3390>"
      ]
     },
     "metadata": {},
     "output_type": "display_data"
    }
   ],
   "source": [
    "sns.lmplot(x='GrLivArea', y='SalePrice', data=trainData, hue='SaleType', fit_reg=False);\n",
    "# this is a bit overplotted to my taste"
   ]
  },
  {
   "cell_type": "code",
   "execution_count": 28,
   "metadata": {
    "collapsed": true
   },
   "outputs": [],
   "source": [
    "sns.lmplot?"
   ]
  },
  {
   "cell_type": "code",
   "execution_count": 29,
   "metadata": {},
   "outputs": [
    {
     "data": {
      "text/plain": [
       "count     1460\n",
       "unique       9\n",
       "top         WD\n",
       "freq      1267\n",
       "Name: SaleType, dtype: object"
      ]
     },
     "execution_count": 29,
     "metadata": {},
     "output_type": "execute_result"
    }
   ],
   "source": [
    "# Summary statistics for a categorical variable\n",
    "trainData['SaleType'].describe()"
   ]
  },
  {
   "cell_type": "code",
   "execution_count": 37,
   "metadata": {},
   "outputs": [
    {
     "data": {
      "text/plain": [
       "20     536\n",
       "60     299\n",
       "50     144\n",
       "120     87\n",
       "30      69\n",
       "160     63\n",
       "70      60\n",
       "80      58\n",
       "90      52\n",
       "190     30\n",
       "85      20\n",
       "75      16\n",
       "45      12\n",
       "180     10\n",
       "40       4\n",
       "Name: MSSubClass, dtype: int64"
      ]
     },
     "execution_count": 37,
     "metadata": {},
     "output_type": "execute_result"
    }
   ],
   "source": [
    "# Does it make more sense to use this variable as a categorical variable?\n",
    "trainData['MSSubClass'].value_counts()"
   ]
  },
  {
   "cell_type": "markdown",
   "metadata": {},
   "source": [
    "# Missing Values"
   ]
  },
  {
   "cell_type": "code",
   "execution_count": 38,
   "metadata": {},
   "outputs": [
    {
     "name": "stdout",
     "output_type": "stream",
     "text": [
      "Id 0\n",
      "MSSubClass 0\n",
      "MSZoning 0\n",
      "LotFrontage 259\n",
      "LotArea 0\n",
      "Street 0\n",
      "Alley 1369\n",
      "LotShape 0\n",
      "LandContour 0\n",
      "Utilities 0\n",
      "LotConfig 0\n",
      "LandSlope 0\n",
      "Neighborhood 0\n",
      "Condition1 0\n",
      "Condition2 0\n",
      "BldgType 0\n",
      "HouseStyle 0\n",
      "OverallQual 0\n",
      "OverallCond 0\n",
      "YearBuilt 0\n",
      "YearRemodAdd 0\n",
      "RoofStyle 0\n",
      "RoofMatl 0\n",
      "Exterior1st 0\n",
      "Exterior2nd 0\n",
      "MasVnrType 8\n",
      "MasVnrArea 8\n",
      "ExterQual 0\n",
      "ExterCond 0\n",
      "Foundation 0\n",
      "BsmtQual 37\n",
      "BsmtCond 37\n",
      "BsmtExposure 38\n",
      "BsmtFinType1 37\n",
      "BsmtFinSF1 0\n",
      "BsmtFinType2 38\n",
      "BsmtFinSF2 0\n",
      "BsmtUnfSF 0\n",
      "TotalBsmtSF 0\n",
      "Heating 0\n",
      "HeatingQC 0\n",
      "CentralAir 0\n",
      "Electrical 1\n",
      "1stFlrSF 0\n",
      "2ndFlrSF 0\n",
      "LowQualFinSF 0\n",
      "GrLivArea 0\n",
      "BsmtFullBath 0\n",
      "BsmtHalfBath 0\n",
      "FullBath 0\n",
      "HalfBath 0\n",
      "BedroomAbvGr 0\n",
      "KitchenAbvGr 0\n",
      "KitchenQual 0\n",
      "TotRmsAbvGrd 0\n",
      "Functional 0\n",
      "Fireplaces 0\n",
      "FireplaceQu 690\n",
      "GarageType 81\n",
      "GarageYrBlt 81\n",
      "GarageFinish 81\n",
      "GarageCars 0\n",
      "GarageArea 0\n",
      "GarageQual 81\n",
      "GarageCond 81\n",
      "PavedDrive 0\n",
      "WoodDeckSF 0\n",
      "OpenPorchSF 0\n",
      "EnclosedPorch 0\n",
      "3SsnPorch 0\n",
      "ScreenPorch 0\n",
      "PoolArea 0\n",
      "PoolQC 1453\n",
      "Fence 1179\n",
      "MiscFeature 1406\n",
      "MiscVal 0\n",
      "MoSold 0\n",
      "YrSold 0\n",
      "SaleType 0\n",
      "SaleCondition 0\n",
      "SalePrice 0\n"
     ]
    }
   ],
   "source": [
    "# Check the number of missing values per column\n",
    "for i in list(trainData.columns) :\n",
    "    k = sum(pd.isnull(trainData[i]))\n",
    "    print(i, k)"
   ]
  },
  {
   "cell_type": "markdown",
   "metadata": {},
   "source": [
    "# The test dataset"
   ]
  },
  {
   "cell_type": "code",
   "execution_count": 5,
   "metadata": {
    "collapsed": true
   },
   "outputs": [],
   "source": [
    "# Let's read-in the testing dataset\n",
    "testData = pd.read_csv('data/test.csv')"
   ]
  },
  {
   "cell_type": "code",
   "execution_count": 6,
   "metadata": {},
   "outputs": [
    {
     "data": {
      "text/plain": [
       "[(1459, 80), (1460, 81)]"
      ]
     },
     "execution_count": 6,
     "metadata": {},
     "output_type": "execute_result"
    }
   ],
   "source": [
    "# We can take a quick look at the size of the datasets\n",
    "[testData.shape, trainData.shape]"
   ]
  },
  {
   "cell_type": "markdown",
   "metadata": {},
   "source": [
    "Ok, this set is for competition submission, since it does not contain the target variable."
   ]
  },
  {
   "cell_type": "markdown",
   "metadata": {
    "collapsed": true
   },
   "source": [
    "# Building basic linear regression models"
   ]
  },
  {
   "cell_type": "code",
   "execution_count": 7,
   "metadata": {
    "collapsed": true
   },
   "outputs": [],
   "source": [
    "# 1. Choose a class of model by importing the appropriate estimator class from Scikit-Learn\n",
    "from sklearn import linear_model\n",
    "from sklearn.metrics import mean_squared_error, r2_score\n",
    "from sklearn.model_selection import cross_val_score"
   ]
  },
  {
   "cell_type": "code",
   "execution_count": null,
   "metadata": {
    "collapsed": true
   },
   "outputs": [],
   "source": [
    "# Notes on Model building in sklearn!\n",
    "# We can extract the features matrix and target array from the DataFrame\n",
    "# X_iris = iris.drop('species', axis=1) # features matrix\n",
    "# y_iris = iris['species'] # target variable"
   ]
  },
  {
   "cell_type": "code",
   "execution_count": 8,
   "metadata": {},
   "outputs": [
    {
     "data": {
      "text/plain": [
       "(1460, 81)"
      ]
     },
     "execution_count": 8,
     "metadata": {},
     "output_type": "execute_result"
    }
   ],
   "source": [
    "trainData.shape"
   ]
  },
  {
   "cell_type": "code",
   "execution_count": 9,
   "metadata": {
    "collapsed": true
   },
   "outputs": [],
   "source": [
    "# 3. Arrange data into a features matrix and target vector \n",
    "\n",
    "# Here we select our features using the top 5 correlated numerical variables\n",
    "#features_list = [\"bonus\", \"salary\"] # Write a features list\n",
    "corrmatrix = trainData.corr()\n",
    "cols5 = np.abs(corrmatrix).nlargest(5, 'SalePrice')['SalePrice'].index\n",
    "featuresX = trainData[cols5].drop('SalePrice', axis=1) # here we remove SalePrice from the features"
   ]
  },
  {
   "cell_type": "code",
   "execution_count": 10,
   "metadata": {},
   "outputs": [
    {
     "data": {
      "text/plain": [
       "(1460, 4)"
      ]
     },
     "execution_count": 10,
     "metadata": {},
     "output_type": "execute_result"
    }
   ],
   "source": [
    "featuresX.values.shape # great this works"
   ]
  },
  {
   "cell_type": "code",
   "execution_count": 12,
   "metadata": {},
   "outputs": [
    {
     "data": {
      "text/plain": [
       "Index(['OverallQual', 'GrLivArea', 'GarageCars', 'GarageArea'], dtype='object')"
      ]
     },
     "execution_count": 12,
     "metadata": {},
     "output_type": "execute_result"
    }
   ],
   "source": [
    "# Check if we have the wanted features\n",
    "featuresX.columns"
   ]
  },
  {
   "cell_type": "code",
   "execution_count": 13,
   "metadata": {},
   "outputs": [
    {
     "data": {
      "text/plain": [
       "(1460,)"
      ]
     },
     "execution_count": 13,
     "metadata": {},
     "output_type": "execute_result"
    }
   ],
   "source": [
    "# Next I need only the target variable\n",
    "dataY = trainData['SalePrice']\n",
    "dataY.shape"
   ]
  },
  {
   "cell_type": "code",
   "execution_count": 123,
   "metadata": {
    "collapsed": true
   },
   "outputs": [],
   "source": [
    "# 2. Choose model hyperparameters by instantiating this class with desired values\n",
    "# In Scikit-Learn, hyperparameters are chosen by passing values at model instantiation\n",
    "\n",
    "# Create linear regression object\n",
    "lnmod = linear_model.LinearRegression()\n",
    "lnmod2 = linear_model.LinearRegression()"
   ]
  },
  {
   "cell_type": "code",
   "execution_count": 124,
   "metadata": {},
   "outputs": [
    {
     "data": {
      "text/plain": [
       "LinearRegression(copy_X=True, fit_intercept=True, n_jobs=1, normalize=False)"
      ]
     },
     "execution_count": 124,
     "metadata": {},
     "output_type": "execute_result"
    }
   ],
   "source": [
    "# 4. Fit the model to your data by calling the fit() method of the model instance.\n",
    "\n",
    "# Train the model using the training set\n",
    "lnmod.fit(featuresX, dataY)\n",
    "lnmod2.fit(m2featuresX, dataY)"
   ]
  },
  {
   "cell_type": "code",
   "execution_count": 125,
   "metadata": {},
   "outputs": [
    {
     "name": "stdout",
     "output_type": "stream",
     "text": [
      "Coefficients: \n",
      " [ 0.14294998  0.00021749  0.09457333  0.00015395]\n"
     ]
    }
   ],
   "source": [
    "# The coefficients of the model\n",
    "print('Coefficients: \\n', lnmod.coef_)"
   ]
  },
  {
   "cell_type": "code",
   "execution_count": 17,
   "metadata": {},
   "outputs": [
    {
     "name": "stdout",
     "output_type": "stream",
     "text": [
      "CV RMSE: 0.1898\n"
     ]
    }
   ],
   "source": [
    "# Here we want to calculate the mean-squared-error (RMSE) of our model\n",
    "# To obtain a good out-of-sample estimate we are using Cross-Validation, here a 5-fold, and average the scores\n",
    "scores = cross_val_score(lnmod, featuresX, dataY, scoring='neg_mean_squared_error', cv=5)\n",
    "# I don't know why it gives the negative of the squared errors, maybe there's a better way\n",
    "RMSE = np.mean(np.sqrt(np.abs(scores)))\n",
    "print(\"CV RMSE: %.4f\" % RMSE) # print 4 significant figures"
   ]
  },
  {
   "cell_type": "markdown",
   "metadata": {},
   "source": [
    "This seems to be a good estimate of our model's out of sample errors, since Kaggle returned RMSE = 0.1889 on the test set. Of course this is a terrible score and reached place 1614 from 1935."
   ]
  },
  {
   "cell_type": "markdown",
   "metadata": {
    "collapsed": true
   },
   "source": [
    "# Prediction on Test Data"
   ]
  },
  {
   "cell_type": "code",
   "execution_count": 18,
   "metadata": {},
   "outputs": [
    {
     "data": {
      "text/plain": [
       "Index(['OverallQual', 'GrLivArea', 'GarageCars', 'GarageArea'], dtype='object')"
      ]
     },
     "execution_count": 18,
     "metadata": {},
     "output_type": "execute_result"
    }
   ],
   "source": [
    "# Check that these are the wanted features set\n",
    "cols5[1:] # take away SalePrice"
   ]
  },
  {
   "cell_type": "code",
   "execution_count": 116,
   "metadata": {
    "collapsed": true
   },
   "outputs": [],
   "source": [
    "# On testset only use our chosen feature variables\n",
    "test_featuresX = testData[cols5[1:]] # model 1\n",
    "test_m2featuresX = testData[ind2] # model 2"
   ]
  },
  {
   "cell_type": "code",
   "execution_count": 117,
   "metadata": {},
   "outputs": [
    {
     "data": {
      "text/plain": [
       "[Index(['OverallQual', 'GrLivArea', 'GarageCars', 'GarageArea'], dtype='object'),\n",
       " Index(['OverallQual', 'GrLivArea', 'GarageCars', 'TotalBsmtSF', 'FullBath',\n",
       "        'YearBuilt', 'YearRemodAdd', 'Fireplaces', 'MasVnrArea', 'BsmtFinSF1'],\n",
       "       dtype='object')]"
      ]
     },
     "execution_count": 117,
     "metadata": {},
     "output_type": "execute_result"
    }
   ],
   "source": [
    "# check\n",
    "[test_featuresX.columns, test_m2featuresX.columns]"
   ]
  },
  {
   "cell_type": "code",
   "execution_count": 21,
   "metadata": {},
   "outputs": [
    {
     "data": {
      "text/html": [
       "<div>\n",
       "<style>\n",
       "    .dataframe thead tr:only-child th {\n",
       "        text-align: right;\n",
       "    }\n",
       "\n",
       "    .dataframe thead th {\n",
       "        text-align: left;\n",
       "    }\n",
       "\n",
       "    .dataframe tbody tr th {\n",
       "        vertical-align: top;\n",
       "    }\n",
       "</style>\n",
       "<table border=\"1\" class=\"dataframe\">\n",
       "  <thead>\n",
       "    <tr style=\"text-align: right;\">\n",
       "      <th></th>\n",
       "      <th>OverallQual</th>\n",
       "      <th>GrLivArea</th>\n",
       "      <th>GarageCars</th>\n",
       "      <th>GarageArea</th>\n",
       "    </tr>\n",
       "  </thead>\n",
       "  <tbody>\n",
       "    <tr>\n",
       "      <th>0</th>\n",
       "      <td>5</td>\n",
       "      <td>896</td>\n",
       "      <td>1.0</td>\n",
       "      <td>730.0</td>\n",
       "    </tr>\n",
       "    <tr>\n",
       "      <th>1</th>\n",
       "      <td>6</td>\n",
       "      <td>1329</td>\n",
       "      <td>1.0</td>\n",
       "      <td>312.0</td>\n",
       "    </tr>\n",
       "    <tr>\n",
       "      <th>2</th>\n",
       "      <td>5</td>\n",
       "      <td>1629</td>\n",
       "      <td>2.0</td>\n",
       "      <td>482.0</td>\n",
       "    </tr>\n",
       "  </tbody>\n",
       "</table>\n",
       "</div>"
      ],
      "text/plain": [
       "   OverallQual  GrLivArea  GarageCars  GarageArea\n",
       "0            5        896         1.0       730.0\n",
       "1            6       1329         1.0       312.0\n",
       "2            5       1629         2.0       482.0"
      ]
     },
     "execution_count": 21,
     "metadata": {},
     "output_type": "execute_result"
    }
   ],
   "source": [
    "test_featuresX.head(3)"
   ]
  },
  {
   "cell_type": "code",
   "execution_count": 22,
   "metadata": {},
   "outputs": [
    {
     "name": "stdout",
     "output_type": "stream",
     "text": [
      "OverallQual 0\n",
      "GrLivArea 0\n",
      "GarageCars 1\n",
      "GarageArea 1\n"
     ]
    }
   ],
   "source": [
    "# Here we can check for missing data in this dataset\n",
    "for i in list(test_featuresX.columns) :\n",
    "    k = sum(pd.isnull(test_featuresX[i]))\n",
    "    print(i, k)"
   ]
  },
  {
   "cell_type": "code",
   "execution_count": 118,
   "metadata": {},
   "outputs": [
    {
     "name": "stdout",
     "output_type": "stream",
     "text": [
      "OverallQual 0\n",
      "GrLivArea 0\n",
      "GarageCars 1\n",
      "TotalBsmtSF 1\n",
      "FullBath 0\n",
      "YearBuilt 0\n",
      "YearRemodAdd 0\n",
      "Fireplaces 0\n",
      "MasVnrArea 15\n",
      "BsmtFinSF1 1\n"
     ]
    }
   ],
   "source": [
    "# For model 2\n",
    "for i in list(test_m2featuresX.columns) :\n",
    "    k = sum(pd.isnull(test_m2featuresX[i]))\n",
    "    print(i, k)"
   ]
  },
  {
   "cell_type": "markdown",
   "metadata": {},
   "source": [
    "There's one missing value. This will cause problems for building a prediction. We will assume that this object has no garage and therefore set the values for 'GarageCars' and 'GarageArea' to zero. "
   ]
  },
  {
   "cell_type": "code",
   "execution_count": 23,
   "metadata": {},
   "outputs": [
    {
     "data": {
      "text/plain": [
       "count    1458.000000\n",
       "mean        1.766118\n",
       "std         0.775945\n",
       "min         0.000000\n",
       "25%         1.000000\n",
       "50%         2.000000\n",
       "75%         2.000000\n",
       "max         5.000000\n",
       "Name: GarageCars, dtype: float64"
      ]
     },
     "execution_count": 23,
     "metadata": {},
     "output_type": "execute_result"
    }
   ],
   "source": [
    "# Take a look. The minimum value is zero, and assumed to be because there is no garage\n",
    "test_featuresX['GarageCars'].describe()"
   ]
  },
  {
   "cell_type": "code",
   "execution_count": 44,
   "metadata": {},
   "outputs": [
    {
     "data": {
      "text/html": [
       "<div>\n",
       "<style>\n",
       "    .dataframe thead tr:only-child th {\n",
       "        text-align: right;\n",
       "    }\n",
       "\n",
       "    .dataframe thead th {\n",
       "        text-align: left;\n",
       "    }\n",
       "\n",
       "    .dataframe tbody tr th {\n",
       "        vertical-align: top;\n",
       "    }\n",
       "</style>\n",
       "<table border=\"1\" class=\"dataframe\">\n",
       "  <thead>\n",
       "    <tr style=\"text-align: right;\">\n",
       "      <th></th>\n",
       "      <th>OverallQual</th>\n",
       "      <th>GrLivArea</th>\n",
       "      <th>GarageCars</th>\n",
       "      <th>GarageArea</th>\n",
       "    </tr>\n",
       "  </thead>\n",
       "  <tbody>\n",
       "    <tr>\n",
       "      <th>1116</th>\n",
       "      <td>5</td>\n",
       "      <td>1828</td>\n",
       "      <td>NaN</td>\n",
       "      <td>NaN</td>\n",
       "    </tr>\n",
       "  </tbody>\n",
       "</table>\n",
       "</div>"
      ],
      "text/plain": [
       "      OverallQual  GrLivArea  GarageCars  GarageArea\n",
       "1116            5       1828         NaN         NaN"
      ]
     },
     "execution_count": 44,
     "metadata": {},
     "output_type": "execute_result"
    }
   ],
   "source": [
    "# Let's find the problem\n",
    "test_featuresX[test_featuresX['GarageCars'].isnull()] # this picks out the problem observation"
   ]
  },
  {
   "cell_type": "code",
   "execution_count": 25,
   "metadata": {},
   "outputs": [
    {
     "data": {
      "text/plain": [
       "5     397\n",
       "6     374\n",
       "7     319\n",
       "8     168\n",
       "4     116\n",
       "9      43\n",
       "3      20\n",
       "10     18\n",
       "2       3\n",
       "1       2\n",
       "Name: OverallQual, dtype: int64"
      ]
     },
     "execution_count": 25,
     "metadata": {},
     "output_type": "execute_result"
    }
   ],
   "source": [
    "# OverallQual goes from 1-10, with veru few objects with values 1,2,3, so an OverallQual value \n",
    "# of 5 is pretty low and you might expect there to be no garage\n",
    "trainData['OverallQual'].value_counts()"
   ]
  },
  {
   "cell_type": "code",
   "execution_count": 119,
   "metadata": {
    "collapsed": true
   },
   "outputs": [],
   "source": [
    "# This fills missing values, the NaNs, with new value zero\n",
    "test_featuresX = test_featuresX.fillna(0)\n",
    "test_m2featuresX = test_m2featuresX.fillna(0)"
   ]
  },
  {
   "cell_type": "code",
   "execution_count": 27,
   "metadata": {},
   "outputs": [
    {
     "name": "stdout",
     "output_type": "stream",
     "text": [
      "OverallQual 0\n",
      "GrLivArea 0\n",
      "GarageCars 0\n",
      "GarageArea 0\n"
     ]
    }
   ],
   "source": [
    "# Check\n",
    "for i in list(test_featuresX.columns) :\n",
    "    k = sum(pd.isnull(test_featuresX[i]))\n",
    "    print(i, k)"
   ]
  },
  {
   "cell_type": "code",
   "execution_count": 120,
   "metadata": {},
   "outputs": [
    {
     "name": "stdout",
     "output_type": "stream",
     "text": [
      "OverallQual 0\n",
      "GrLivArea 0\n",
      "GarageCars 0\n",
      "TotalBsmtSF 0\n",
      "FullBath 0\n",
      "YearBuilt 0\n",
      "YearRemodAdd 0\n",
      "Fireplaces 0\n",
      "MasVnrArea 0\n",
      "BsmtFinSF1 0\n"
     ]
    }
   ],
   "source": [
    "for i in list(test_m2featuresX.columns) :\n",
    "    k = sum(pd.isnull(test_m2featuresX[i]))\n",
    "    print(i, k)"
   ]
  },
  {
   "cell_type": "code",
   "execution_count": 126,
   "metadata": {
    "collapsed": true
   },
   "outputs": [],
   "source": [
    "# 5. Apply the Model to new data\n",
    "\n",
    "# Now we make a prediction using our model and the test features\n",
    "pred1 = lnmod.predict(test_featuresX)\n",
    "pred2 = lnmod2.predict(test_m2featuresX)\n",
    "#[pred1.shape, pred2.shape]"
   ]
  },
  {
   "cell_type": "code",
   "execution_count": 128,
   "metadata": {},
   "outputs": [
    {
     "data": {
      "text/plain": [
       "array([ 11.69919418,  11.87196633,  11.91500981, ...,  11.84139656,\n",
       "        11.50832939,  12.40203736])"
      ]
     },
     "execution_count": 128,
     "metadata": {},
     "output_type": "execute_result"
    }
   ],
   "source": [
    "pred1"
   ]
  },
  {
   "cell_type": "code",
   "execution_count": 55,
   "metadata": {},
   "outputs": [
    {
     "data": {
      "text/plain": [
       "0    1461\n",
       "1    1462\n",
       "2    1463\n",
       "Name: Id, dtype: int64"
      ]
     },
     "execution_count": 55,
     "metadata": {},
     "output_type": "execute_result"
    }
   ],
   "source": [
    "# Take a look\n",
    "testData['Id'].head(3)"
   ]
  },
  {
   "cell_type": "code",
   "execution_count": 133,
   "metadata": {},
   "outputs": [
    {
     "data": {
      "text/plain": [
       "(1459, 2)"
      ]
     },
     "execution_count": 133,
     "metadata": {},
     "output_type": "execute_result"
    }
   ],
   "source": [
    "# create new DF\n",
    "output2 = pd.DataFrame([])\n",
    "output2['Id'] = testData['Id']\n",
    "output2['SalePrice'] = np.exp(pred2.T)\n",
    "output2.shape"
   ]
  },
  {
   "cell_type": "code",
   "execution_count": 30,
   "metadata": {
    "collapsed": true
   },
   "outputs": [],
   "source": [
    "# Let's add our prediction to the test dataset, and convert log back to normal scale\n",
    "testData['SalePrice'] = np.exp(pred1)"
   ]
  },
  {
   "cell_type": "code",
   "execution_count": 32,
   "metadata": {
    "collapsed": true
   },
   "outputs": [],
   "source": [
    "# Create an index with only the variables that are required for the Kaggle submission\n",
    "indA = pd.Index(['Id','SalePrice']) \n",
    "# Subset the data frame\n",
    "output1 = testData[indA]"
   ]
  },
  {
   "cell_type": "code",
   "execution_count": 34,
   "metadata": {},
   "outputs": [
    {
     "data": {
      "text/html": [
       "<div>\n",
       "<style>\n",
       "    .dataframe thead tr:only-child th {\n",
       "        text-align: right;\n",
       "    }\n",
       "\n",
       "    .dataframe thead th {\n",
       "        text-align: left;\n",
       "    }\n",
       "\n",
       "    .dataframe tbody tr th {\n",
       "        vertical-align: top;\n",
       "    }\n",
       "</style>\n",
       "<table border=\"1\" class=\"dataframe\">\n",
       "  <thead>\n",
       "    <tr style=\"text-align: right;\">\n",
       "      <th></th>\n",
       "      <th>Id</th>\n",
       "      <th>SalePrice</th>\n",
       "    </tr>\n",
       "  </thead>\n",
       "  <tbody>\n",
       "    <tr>\n",
       "      <th>0</th>\n",
       "      <td>1461</td>\n",
       "      <td>120474.595424</td>\n",
       "    </tr>\n",
       "    <tr>\n",
       "      <th>1</th>\n",
       "      <td>1462</td>\n",
       "      <td>143195.531391</td>\n",
       "    </tr>\n",
       "    <tr>\n",
       "      <th>2</th>\n",
       "      <td>1463</td>\n",
       "      <td>149493.741076</td>\n",
       "    </tr>\n",
       "  </tbody>\n",
       "</table>\n",
       "</div>"
      ],
      "text/plain": [
       "     Id      SalePrice\n",
       "0  1461  120474.595424\n",
       "1  1462  143195.531391\n",
       "2  1463  149493.741076"
      ]
     },
     "execution_count": 34,
     "metadata": {},
     "output_type": "execute_result"
    }
   ],
   "source": [
    "# Check\n",
    "output1.head(3)"
   ]
  },
  {
   "cell_type": "code",
   "execution_count": 35,
   "metadata": {},
   "outputs": [
    {
     "data": {
      "text/plain": [
       "(1459, 2)"
      ]
     },
     "execution_count": 35,
     "metadata": {},
     "output_type": "execute_result"
    }
   ],
   "source": [
    "# Check\n",
    "output1.shape"
   ]
  },
  {
   "cell_type": "markdown",
   "metadata": {
    "collapsed": true
   },
   "source": [
    "This is the required format for Kaggle submissions, see below."
   ]
  },
  {
   "cell_type": "code",
   "execution_count": 134,
   "metadata": {
    "collapsed": true
   },
   "outputs": [],
   "source": [
    "# Finally export the predictions as a cvs file\n",
    "#output1.to_csv('data/output1.csv', index=False) # with no row numbers\n",
    "output2.to_csv('data/output2.csv', index=False) # with no row numbers"
   ]
  },
  {
   "cell_type": "markdown",
   "metadata": {},
   "source": [
    "This second model gave me a Kaggle score of 0.15769, and position 1420/1939 up 201 places!"
   ]
  },
  {
   "cell_type": "markdown",
   "metadata": {},
   "source": [
    "# The sample prediction output"
   ]
  },
  {
   "cell_type": "markdown",
   "metadata": {},
   "source": [
    "This is how the Kaggle submission file should look like."
   ]
  },
  {
   "cell_type": "code",
   "execution_count": 65,
   "metadata": {
    "collapsed": true
   },
   "outputs": [],
   "source": [
    "# Let's read-in the dataset\n",
    "samplePred = pd.read_csv('data/sample_submission.csv')"
   ]
  },
  {
   "cell_type": "code",
   "execution_count": 66,
   "metadata": {},
   "outputs": [
    {
     "data": {
      "text/plain": [
       "(1459, 2)"
      ]
     },
     "execution_count": 66,
     "metadata": {},
     "output_type": "execute_result"
    }
   ],
   "source": [
    "samplePred.shape"
   ]
  },
  {
   "cell_type": "code",
   "execution_count": 67,
   "metadata": {},
   "outputs": [
    {
     "data": {
      "text/html": [
       "<div>\n",
       "<style>\n",
       "    .dataframe thead tr:only-child th {\n",
       "        text-align: right;\n",
       "    }\n",
       "\n",
       "    .dataframe thead th {\n",
       "        text-align: left;\n",
       "    }\n",
       "\n",
       "    .dataframe tbody tr th {\n",
       "        vertical-align: top;\n",
       "    }\n",
       "</style>\n",
       "<table border=\"1\" class=\"dataframe\">\n",
       "  <thead>\n",
       "    <tr style=\"text-align: right;\">\n",
       "      <th></th>\n",
       "      <th>Id</th>\n",
       "      <th>SalePrice</th>\n",
       "    </tr>\n",
       "  </thead>\n",
       "  <tbody>\n",
       "    <tr>\n",
       "      <th>0</th>\n",
       "      <td>1461</td>\n",
       "      <td>169277.052498</td>\n",
       "    </tr>\n",
       "    <tr>\n",
       "      <th>1</th>\n",
       "      <td>1462</td>\n",
       "      <td>187758.393989</td>\n",
       "    </tr>\n",
       "    <tr>\n",
       "      <th>2</th>\n",
       "      <td>1463</td>\n",
       "      <td>183583.683570</td>\n",
       "    </tr>\n",
       "  </tbody>\n",
       "</table>\n",
       "</div>"
      ],
      "text/plain": [
       "     Id      SalePrice\n",
       "0  1461  169277.052498\n",
       "1  1462  187758.393989\n",
       "2  1463  183583.683570"
      ]
     },
     "execution_count": 67,
     "metadata": {},
     "output_type": "execute_result"
    }
   ],
   "source": [
    "samplePred.head(3)"
   ]
  },
  {
   "cell_type": "markdown",
   "metadata": {
    "collapsed": true
   },
   "source": [
    "# Next model\n",
    "\n",
    "The next model to build contains the top 15 numerical variables"
   ]
  },
  {
   "cell_type": "code",
   "execution_count": 103,
   "metadata": {
    "collapsed": true
   },
   "outputs": [],
   "source": [
    "# Here we select our features using the top 15 correlated numerical variables, see plot above\n",
    "corrmatrix = trainData.corr()\n",
    "cols15 = np.abs(corrmatrix).nlargest(15, 'SalePrice')['SalePrice'].index\n",
    "# We drop the highly correlated variables\n",
    "ind2 = cols15.drop(['SalePrice', 'GarageArea', 'TotRmsAbvGrd', '1stFlrSF', 'GarageYrBlt'])\n",
    "m2featuresX = trainData[ind2]"
   ]
  },
  {
   "cell_type": "code",
   "execution_count": 104,
   "metadata": {},
   "outputs": [
    {
     "data": {
      "text/plain": [
       "Index(['OverallQual', 'GrLivArea', 'GarageCars', 'TotalBsmtSF', 'FullBath',\n",
       "       'YearBuilt', 'YearRemodAdd', 'Fireplaces', 'MasVnrArea', 'BsmtFinSF1'],\n",
       "      dtype='object')"
      ]
     },
     "execution_count": 104,
     "metadata": {},
     "output_type": "execute_result"
    }
   ],
   "source": [
    "m2featuresX.columns"
   ]
  },
  {
   "cell_type": "code",
   "execution_count": 108,
   "metadata": {},
   "outputs": [
    {
     "name": "stdout",
     "output_type": "stream",
     "text": [
      "OverallQual 0\n",
      "GrLivArea 0\n",
      "GarageCars 0\n",
      "TotalBsmtSF 0\n",
      "FullBath 0\n",
      "YearBuilt 0\n",
      "YearRemodAdd 0\n",
      "Fireplaces 0\n",
      "MasVnrArea 0\n",
      "BsmtFinSF1 0\n"
     ]
    }
   ],
   "source": [
    "# Here we can check for missing data in this dataset\n",
    "for i in list(m2featuresX.columns) :\n",
    "    k = sum(pd.isnull(m2featuresX[i]))\n",
    "    print(i, k)"
   ]
  },
  {
   "cell_type": "markdown",
   "metadata": {},
   "source": [
    "There are 8 missing obs for 'MasVnrArea': Masonry veneer area in square feet. We can assume that there is no Veneer."
   ]
  },
  {
   "cell_type": "code",
   "execution_count": 107,
   "metadata": {
    "collapsed": true
   },
   "outputs": [],
   "source": [
    "# Fill the missing data with zeros\n",
    "m2featuresX = m2featuresX.fillna(0)\n",
    "#m2featuresX.loc[:, \"MasVnrArea\"] = m2featuresX.loc[:, \"MasVnrArea\"].fillna(0)"
   ]
  },
  {
   "cell_type": "code",
   "execution_count": 113,
   "metadata": {},
   "outputs": [
    {
     "name": "stdout",
     "output_type": "stream",
     "text": [
      "Coefficients: \n",
      " [  8.88834663e-02   2.07964182e-04   8.39003299e-02   7.80120903e-05\n",
      "   5.59035843e-03   1.61557248e-03   2.47980244e-03   6.75242466e-02\n",
      "  -1.05993061e-05   7.61224053e-05]\n"
     ]
    }
   ],
   "source": [
    "# Train the model using the training set\n",
    "lnmod.fit(m2featuresX, dataY)\n",
    "# The coefficients of the model\n",
    "print('Coefficients: \\n', lnmod.coef_)"
   ]
  },
  {
   "cell_type": "code",
   "execution_count": 115,
   "metadata": {},
   "outputs": [
    {
     "name": "stdout",
     "output_type": "stream",
     "text": [
      "CV RMSE: 0.1667\n"
     ]
    }
   ],
   "source": [
    "# Here we want to calculate the mean-squared-error (RMSE) of our model\n",
    "# To obtain a good out-of-sample estimate we are using Cross-Validation, here a 5-fold, and average the scores\n",
    "scores2 = cross_val_score(lnmod, m2featuresX, dataY, scoring='neg_mean_squared_error', cv=5)\n",
    "# I don't know why it gives the negative of the squared errors, maybe there's a better way\n",
    "RMSE2 = np.mean(np.sqrt(np.abs(scores2)))\n",
    "print(\"CV RMSE: %.4f\" % RMSE2) # print 4 significant figures"
   ]
  },
  {
   "cell_type": "markdown",
   "metadata": {},
   "source": [
    "Okay, that's quite a big improvement!"
   ]
  },
  {
   "cell_type": "markdown",
   "metadata": {},
   "source": [
    "### Missing Garage Data"
   ]
  },
  {
   "cell_type": "code",
   "execution_count": 49,
   "metadata": {},
   "outputs": [
    {
     "data": {
      "text/plain": [
       "count    1379.000000\n",
       "mean     1978.506164\n",
       "std        24.689725\n",
       "min      1900.000000\n",
       "25%      1961.000000\n",
       "50%      1980.000000\n",
       "75%      2002.000000\n",
       "max      2010.000000\n",
       "Name: GarageYrBlt, dtype: float64"
      ]
     },
     "execution_count": 49,
     "metadata": {},
     "output_type": "execute_result"
    }
   ],
   "source": [
    "# How do we handle this missing data? It looks like these properties have no garages\n",
    "# should we define a categorical feature garage?\n",
    "m2featuresX['GarageYrBlt'].describe()\n",
    "# One option would be to set these dates to zero, but it seems weird to set a date to zero\n",
    "# Another option. If all the entries in the test dataset have a garage, i.e. we don't have to make predictions\n",
    "# for properties without garage, then we should just delete these rows"
   ]
  },
  {
   "cell_type": "code",
   "execution_count": 54,
   "metadata": {},
   "outputs": [
    {
     "data": {
      "text/plain": [
       "0    81\n",
       "Name: GarageCars, dtype: int64"
      ]
     },
     "execution_count": 54,
     "metadata": {},
     "output_type": "execute_result"
    }
   ],
   "source": [
    "# Let's find the problem\n",
    "m2featuresX[m2featuresX['GarageYrBlt'].isnull()] # this picks out the problem observation\n",
    "m2featuresX[m2featuresX['GarageYrBlt'].isnull()]['GarageCars'].value_counts() \n",
    "# All of those missing values have a value of garage area set to zero, probably no garage"
   ]
  },
  {
   "cell_type": "markdown",
   "metadata": {},
   "source": [
    "There is no categorical variable which tells us if there is a garage or not. Surely we should add one."
   ]
  },
  {
   "cell_type": "code",
   "execution_count": 60,
   "metadata": {},
   "outputs": [
    {
     "data": {
      "text/plain": [
       "0.0    76\n",
       "1.0     1\n",
       "Name: GarageCars, dtype: int64"
      ]
     },
     "execution_count": 60,
     "metadata": {},
     "output_type": "execute_result"
    }
   ],
   "source": [
    "# In the test data there are 76-77 cases with no garages! That's 77/1459=5% of data\n",
    "testData[testData['GarageYrBlt'].isnull()]['GarageCars'].value_counts()\n",
    "# we have to consider these cases too"
   ]
  },
  {
   "cell_type": "code",
   "execution_count": 82,
   "metadata": {},
   "outputs": [
    {
     "name": "stdout",
     "output_type": "stream",
     "text": [
      "GarageType 81\n",
      "GarageYrBlt 81\n",
      "GarageFinish 81\n",
      "GarageCars 0\n",
      "GarageArea 0\n",
      "GarageQual 81\n",
      "GarageCond 81\n"
     ]
    }
   ],
   "source": [
    "# Let's look at all features related to Garage to make sure these missing values mean no garage\n",
    "# These are all the features related to garage:\n",
    "# GarageType, GarageYrBlt, GarageFinish, GarageCars, GarageArea, GarageQual, GarageCond\n",
    "indGarage = pd.Index(['GarageType', 'GarageYrBlt', 'GarageFinish', 'GarageCars', \n",
    "           'GarageArea', 'GarageQual', 'GarageCond'])\n",
    "#trainData[indGarage].head(3)\n",
    "# count missing values\n",
    "for i in list(trainData[indGarage].columns) :\n",
    "    k = sum(pd.isnull(trainData[indGarage][i]))\n",
    "    print(i, k)\n",
    "# they all have same number of missing values"
   ]
  },
  {
   "cell_type": "code",
   "execution_count": 85,
   "metadata": {},
   "outputs": [
    {
     "data": {
      "text/plain": [
       "(81, 7)"
      ]
     },
     "execution_count": 85,
     "metadata": {},
     "output_type": "execute_result"
    }
   ],
   "source": [
    "# When the GarageArea == 0, all 81 missing values are set to NaN. Hence NaN really corresponds to No Garage.\n",
    "trainData.loc[trainData.GarageArea == 0, indGarage].shape"
   ]
  },
  {
   "cell_type": "code",
   "execution_count": 95,
   "metadata": {},
   "outputs": [
    {
     "data": {
      "text/html": [
       "<div>\n",
       "<style>\n",
       "    .dataframe thead tr:only-child th {\n",
       "        text-align: right;\n",
       "    }\n",
       "\n",
       "    .dataframe thead th {\n",
       "        text-align: left;\n",
       "    }\n",
       "\n",
       "    .dataframe tbody tr th {\n",
       "        vertical-align: top;\n",
       "    }\n",
       "</style>\n",
       "<table border=\"1\" class=\"dataframe\">\n",
       "  <thead>\n",
       "    <tr style=\"text-align: right;\">\n",
       "      <th></th>\n",
       "      <th>GarageYrBlt</th>\n",
       "      <th>GarageCars</th>\n",
       "      <th>GarageArea</th>\n",
       "    </tr>\n",
       "  </thead>\n",
       "  <tbody>\n",
       "    <tr>\n",
       "      <th>count</th>\n",
       "      <td>1379.000000</td>\n",
       "      <td>1460.000000</td>\n",
       "      <td>1460.000000</td>\n",
       "    </tr>\n",
       "    <tr>\n",
       "      <th>mean</th>\n",
       "      <td>1978.506164</td>\n",
       "      <td>1.767123</td>\n",
       "      <td>472.980137</td>\n",
       "    </tr>\n",
       "    <tr>\n",
       "      <th>std</th>\n",
       "      <td>24.689725</td>\n",
       "      <td>0.747315</td>\n",
       "      <td>213.804841</td>\n",
       "    </tr>\n",
       "    <tr>\n",
       "      <th>min</th>\n",
       "      <td>1900.000000</td>\n",
       "      <td>0.000000</td>\n",
       "      <td>0.000000</td>\n",
       "    </tr>\n",
       "    <tr>\n",
       "      <th>25%</th>\n",
       "      <td>1961.000000</td>\n",
       "      <td>1.000000</td>\n",
       "      <td>334.500000</td>\n",
       "    </tr>\n",
       "    <tr>\n",
       "      <th>50%</th>\n",
       "      <td>1980.000000</td>\n",
       "      <td>2.000000</td>\n",
       "      <td>480.000000</td>\n",
       "    </tr>\n",
       "    <tr>\n",
       "      <th>75%</th>\n",
       "      <td>2002.000000</td>\n",
       "      <td>2.000000</td>\n",
       "      <td>576.000000</td>\n",
       "    </tr>\n",
       "    <tr>\n",
       "      <th>max</th>\n",
       "      <td>2010.000000</td>\n",
       "      <td>4.000000</td>\n",
       "      <td>1418.000000</td>\n",
       "    </tr>\n",
       "  </tbody>\n",
       "</table>\n",
       "</div>"
      ],
      "text/plain": [
       "       GarageYrBlt   GarageCars   GarageArea\n",
       "count  1379.000000  1460.000000  1460.000000\n",
       "mean   1978.506164     1.767123   472.980137\n",
       "std      24.689725     0.747315   213.804841\n",
       "min    1900.000000     0.000000     0.000000\n",
       "25%    1961.000000     1.000000   334.500000\n",
       "50%    1980.000000     2.000000   480.000000\n",
       "75%    2002.000000     2.000000   576.000000\n",
       "max    2010.000000     4.000000  1418.000000"
      ]
     },
     "execution_count": 95,
     "metadata": {},
     "output_type": "execute_result"
    }
   ],
   "source": [
    "# numerical vars\n",
    "trainData[indGarage].describe()"
   ]
  },
  {
   "cell_type": "code",
   "execution_count": 102,
   "metadata": {},
   "outputs": [
    {
     "data": {
      "text/plain": [
       "TA    1326\n",
       "Fa      35\n",
       "Gd       9\n",
       "Po       7\n",
       "Ex       2\n",
       "Name: GarageCond, dtype: int64"
      ]
     },
     "execution_count": 102,
     "metadata": {},
     "output_type": "execute_result"
    }
   ],
   "source": [
    "# categorical vars, e.g.\n",
    "trainData['GarageCond'].value_counts()"
   ]
  },
  {
   "cell_type": "markdown",
   "metadata": {},
   "source": [
    "I'm not sure what's the best way to deal with these missing values. But since our new model only considers GarageYrBlt then perhaps we could try setting it to zero and creating a Garage variable 1 = Yes, 0 = No."
   ]
  },
  {
   "cell_type": "code",
   "execution_count": null,
   "metadata": {
    "collapsed": true
   },
   "outputs": [],
   "source": [
    "# Creat a new categorical feature\n",
    "# trainData['HasGarage'] = "
   ]
  },
  {
   "cell_type": "markdown",
   "metadata": {},
   "source": [
    "# Next steps\n",
    "\n",
    "* Dealing with missing values\n",
    "* Dealing with categorical data\n",
    "* Testing higher order terms in linear model, and doing a bias-variance curve\n",
    "* Testing dataset size, is there convergence? \n"
   ]
  },
  {
   "cell_type": "code",
   "execution_count": null,
   "metadata": {
    "collapsed": true
   },
   "outputs": [],
   "source": []
  }
 ],
 "metadata": {
  "kernelspec": {
   "display_name": "Python 3",
   "language": "python",
   "name": "python3"
  },
  "language_info": {
   "codemirror_mode": {
    "name": "ipython",
    "version": 3
   },
   "file_extension": ".py",
   "mimetype": "text/x-python",
   "name": "python",
   "nbconvert_exporter": "python",
   "pygments_lexer": "ipython3",
   "version": "3.6.2"
  }
 },
 "nbformat": 4,
 "nbformat_minor": 2
}
